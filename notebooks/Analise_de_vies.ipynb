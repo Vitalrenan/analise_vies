{
  "nbformat": 4,
  "nbformat_minor": 0,
  "metadata": {
    "colab": {
      "provenance": []
    },
    "kernelspec": {
      "name": "python3",
      "display_name": "Python 3"
    },
    "language_info": {
      "name": "python"
    }
  },
  "cells": [
    {
      "cell_type": "code",
      "execution_count": 1,
      "metadata": {
        "colab": {
          "base_uri": "https://localhost:8080/"
        },
        "id": "CEzZnK_1xSQT",
        "outputId": "18469923-9637-4780-bb8c-c92fbf1672ab"
      },
      "outputs": [
        {
          "output_type": "stream",
          "name": "stdout",
          "text": [
            "Mounted at /content/drive\n"
          ]
        }
      ],
      "source": [
        "from google.colab import drive\n",
        "drive.mount('/content/drive')"
      ]
    },
    {
      "cell_type": "code",
      "source": [
        "import pandas as pd\n",
        "from sklearn.feature_extraction.text import CountVectorizer\n",
        "from gensim.models import KeyedVectors\n",
        "import string\n",
        "import nltk\n",
        "import numpy as np\n",
        "nltk.download('punkt')"
      ],
      "metadata": {
        "id": "vVZB-VkSyrr_"
      },
      "execution_count": null,
      "outputs": []
    },
    {
      "cell_type": "code",
      "source": [
        "!unzip \"/content/drive/MyDrive/Colab Notebooks/NLTK/Embedding/skip_s300.zip\"\n",
        "modelo = KeyedVectors.load_word2vec_format(\"skip_s300.txt\")"
      ],
      "metadata": {
        "colab": {
          "base_uri": "https://localhost:8080/"
        },
        "id": "bMrwyadtytu3",
        "outputId": "32f0616b-b3bf-44b7-dea4-8f88ed7b66ba"
      },
      "execution_count": 4,
      "outputs": [
        {
          "output_type": "stream",
          "name": "stdout",
          "text": [
            "Archive:  /content/drive/MyDrive/Colab Notebooks/NLTK/Embedding/skip_s300.zip\n",
            "  inflating: skip_s300.txt           \n"
          ]
        }
      ]
    },
    {
      "cell_type": "code",
      "source": [
        "def tokenizador(texto):\n",
        "    texto = texto.lower()\n",
        "    lista_alfanumerico = []\n",
        "    for token_valido in nltk.word_tokenize(texto):\n",
        "        if token_valido in string.punctuation: continue\n",
        "        lista_alfanumerico.append(token_valido)\n",
        "    return lista_alfanumerico\n",
        "\n",
        "def combinacao_de_vetores_por_soma(palavras_numeros):\n",
        "    vetor_resultante = np.zeros(300)\n",
        "    for pn in palavras_numeros:\n",
        "        try:\n",
        "            vetor_resultante += modelo.get_vector(pn)\n",
        "        except KeyError:\n",
        "            if pn.isnumeric():\n",
        "               pn = \"0\"*len(pn)\n",
        "               vetor_resultante += modelo.get_vector(pn)\n",
        "            else:\n",
        "                vetor_resultante += modelo.get_vector(\"unknown\")\n",
        "    return vetor_resultante   \n",
        "\n",
        "def matriz_vetores(textos):\n",
        "    x = len(textos) #numero de textos em cada base (treino/teste)\n",
        "    y = 300 #tamanho da dimensão de vetores\n",
        "    matriz = np.zeros((x,y))\n",
        "    for i in range(x):\n",
        "        palavras_numeros = tokenizador(textos)\n",
        "        matriz = combinacao_de_vetores_por_soma(palavras_numeros)\n",
        "    return matriz\n",
        "\n",
        "def pipe(texto):\n",
        "  return list(zip(*modelo.most_similar(matriz_vetores(texto))))[0]\n"
      ],
      "metadata": {
        "id": "fcflX0Njz1yA"
      },
      "execution_count": 70,
      "outputs": []
    },
    {
      "cell_type": "code",
      "source": [
        "pipe('eu me chamo renan')"
      ],
      "metadata": {
        "colab": {
          "base_uri": "https://localhost:8080/"
        },
        "id": "8K4cuTMqz953",
        "outputId": "3c087111-4225-4c63-a791-b1ff017459f8"
      },
      "execution_count": 71,
      "outputs": [
        {
          "output_type": "execute_result",
          "data": {
            "text/plain": [
              "('eu',\n",
              " 'me',\n",
              " 'renan',\n",
              " '—eu',\n",
              " 'afirmo-lhe',\n",
              " 'quero',\n",
              " 'vo-la',\n",
              " 'chamo',\n",
              " 'sinto',\n",
              " 'vô-lo')"
            ]
          },
          "metadata": {},
          "execution_count": 71
        }
      ]
    },
    {
      "cell_type": "code",
      "source": [
        "input('oi')"
      ],
      "metadata": {
        "colab": {
          "base_uri": "https://localhost:8080/",
          "height": 54
        },
        "id": "EIhAxjaREF0H",
        "outputId": "ff0da078-e135-4c0f-f8a3-fb4510321841"
      },
      "execution_count": 69,
      "outputs": [
        {
          "name": "stdout",
          "output_type": "stream",
          "text": [
            "oid\n"
          ]
        },
        {
          "output_type": "execute_result",
          "data": {
            "text/plain": [
              "'d'"
            ],
            "application/vnd.google.colaboratory.intrinsic+json": {
              "type": "string"
            }
          },
          "metadata": {},
          "execution_count": 69
        }
      ]
    },
    {
      "cell_type": "code",
      "source": [],
      "metadata": {
        "id": "bryLwhwtJOQQ"
      },
      "execution_count": null,
      "outputs": []
    }
  ]
}